{
 "cells": [
  {
   "cell_type": "markdown",
   "id": "65c22b49",
   "metadata": {},
   "source": [
    "# Getting Started with Machine Learning."
   ]
  },
  {
   "cell_type": "markdown",
   "id": "093a621e",
   "metadata": {},
   "source": [
    "music.csv file contains the data."
   ]
  },
  {
   "cell_type": "code",
   "execution_count": 175,
   "id": "09783a31",
   "metadata": {},
   "outputs": [
    {
     "data": {
      "text/plain": [
       "1.0"
      ]
     },
     "execution_count": 175,
     "metadata": {},
     "output_type": "execute_result"
    }
   ],
   "source": [
    "#Importing useful functions\n",
    "import pandas as pd\n",
    "from sklearn.tree import DecisionTreeClassifier\n",
    "from sklearn.model_selection import train_test_split\n",
    "from sklearn.metrics import accuracy_score\n",
    "\n",
    "music=pd.read_csv('music.csv')  # Reading the music.csv file\n",
    "# Dividing the music.csv file into input and output\n",
    "X=music.drop(columns=['genre'])  #Input\n",
    "y=music['genre'] #Output\n",
    "\n",
    "#Dividing the data into training and test data.\n",
    "X_train, X_test, y_train, y_test = train_test_split(X,y,test_size=0.2)   # 0.2 implies 20% od data is used for testing \n",
    "                                                                         # and 80% of data is used for training model.\n",
    "\n",
    "    \n",
    "model = DecisionTreeClassifier() #Initializing the Model\n",
    "model.fit(X_train,y_train)       # Giving the training datasheet\n",
    "predictions=model.predict(X_test) #Storing the  prediction\n",
    "score=accuracy_score(y_test, predictions) #Checking for the accuracy by matching the prediction datasheet with the test sheet.\n",
    "score"
   ]
  },
  {
   "cell_type": "markdown",
   "id": "40459cd7",
   "metadata": {},
   "source": [
    "## Second Program\n",
    "\n",
    "Training a model takes time. So in real worl machine learning problems, we don't train model for making each predictions.\n",
    "So we store the trained model. For that we use joblib.\n",
    "\n",
    "In this program, we are storing the trained model in music-recommender.joblib file."
   ]
  },
  {
   "cell_type": "code",
   "execution_count": 176,
   "id": "c1316804",
   "metadata": {},
   "outputs": [
    {
     "data": {
      "text/plain": [
       "['music-recommender.joblib']"
      ]
     },
     "execution_count": 176,
     "metadata": {},
     "output_type": "execute_result"
    }
   ],
   "source": [
    "import pandas as pd\n",
    "from sklearn.tree import DecisionTreeClassifier\n",
    "import joblib\n",
    "\n",
    "music=pd.read_csv('music.csv')\n",
    "X=music.drop(columns=['genre'])  #Input\n",
    "y=music['genre'] #Output\n",
    "\n",
    "model = DecisionTreeClassifier()\n",
    "model.fit(X,y)\n",
    "\n",
    "joblib.dump(model,'music-recommender.joblib')\n",
    "  \n",
    "# predictions=model.predict([[21,1]])\n",
    "\n"
   ]
  },
  {
   "cell_type": "markdown",
   "id": "5ba9c483",
   "metadata": {},
   "source": [
    "Now we don't train our model again. We just use the joblib file to access the model and make predictions."
   ]
  },
  {
   "cell_type": "code",
   "execution_count": 177,
   "id": "c8d8134a",
   "metadata": {},
   "outputs": [
    {
     "data": {
      "text/plain": [
       "array(['HipHop'], dtype=object)"
      ]
     },
     "execution_count": 177,
     "metadata": {},
     "output_type": "execute_result"
    }
   ],
   "source": [
    "modelnew = joblib.load('music-recommender.joblib') #loading the trained model.\n",
    "predictions =model.predict([[21,1]])            #Taking predictions\n",
    "predictions\n"
   ]
  },
  {
   "cell_type": "markdown",
   "id": "d1129540",
   "metadata": {},
   "source": [
    "# Decision Tree\n",
    "\n",
    "In this program, we are storing the trained model into a dot file for visualisation.\n",
    "\n",
    "After running this program a music-reccommender.dot file will be made. Open that using VC Code.\n",
    "In VS Code, install an extension : https://marketplace.visualstudio.com/items?itemName=joaompinto.vscode-graphviz\n",
    "\n",
    "After installing this extension. Go to the .dot file and click on the three dots in the top right of the VS Code and click on Open preview to the side or Run Command Ctrl + K V to visualise the decision tree."
   ]
  },
  {
   "cell_type": "code",
   "execution_count": 180,
   "id": "c8aaa330",
   "metadata": {},
   "outputs": [],
   "source": [
    "import pandas as pd\n",
    "from sklearn.tree import DecisionTreeClassifier\n",
    "from sklearn import tree\n",
    "\n",
    "music=pd.read_csv('music.csv')\n",
    "X=music.drop(columns=['genre'])  #Input\n",
    "y=music['genre'] #Output\n",
    "\n",
    "model = DecisionTreeClassifier()\n",
    "model.fit(X,y)\n",
    "\n",
    "tree.export_graphviz(model, out_file='music-recommender.dot',\n",
    "                     feature_names=['age','gender'], #To see roles in nodes\n",
    "                     class_names=sorted(y.unique()), #Displaying class for each node\n",
    "                    label='all', #To get label for each box\n",
    "                    rounded=True, #To get rounded corners\n",
    "                    filled=True) # Makes Each box in decision tree filled with colour "
   ]
  },
  {
   "cell_type": "code",
   "execution_count": null,
   "id": "177a9717",
   "metadata": {},
   "outputs": [],
   "source": []
  },
  {
   "cell_type": "code",
   "execution_count": null,
   "id": "b2cf2efa",
   "metadata": {},
   "outputs": [],
   "source": []
  },
  {
   "cell_type": "code",
   "execution_count": null,
   "id": "349d102e",
   "metadata": {},
   "outputs": [],
   "source": []
  },
  {
   "cell_type": "code",
   "execution_count": null,
   "id": "1fce1df8",
   "metadata": {},
   "outputs": [],
   "source": []
  }
 ],
 "metadata": {
  "kernelspec": {
   "display_name": "Python 3 (ipykernel)",
   "language": "python",
   "name": "python3"
  },
  "language_info": {
   "codemirror_mode": {
    "name": "ipython",
    "version": 3
   },
   "file_extension": ".py",
   "mimetype": "text/x-python",
   "name": "python",
   "nbconvert_exporter": "python",
   "pygments_lexer": "ipython3",
   "version": "3.9.7"
  }
 },
 "nbformat": 4,
 "nbformat_minor": 5
}
